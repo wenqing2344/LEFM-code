{
 "cells": [
  {
   "cell_type": "code",
   "execution_count": 1,
   "id": "ff4c995c",
   "metadata": {},
   "outputs": [],
   "source": [
    "import numpy as np\n",
    "import cmath\n",
    "import math\n",
    "import sympy as sy\n"
   ]
  },
  {
   "cell_type": "code",
   "execution_count": 2,
   "id": "5252db77",
   "metadata": {
    "scrolled": true
   },
   "outputs": [
    {
     "name": "stdout",
     "output_type": "stream",
     "text": [
      "47800\n",
      "57.703272654157 300.60769246714887 303.9193095976048\n",
      "[0, 120.24307698685955, 151.9596547988024]\n"
     ]
    }
   ],
   "source": [
    "g = open('./boundary_region.lmp','r')\n",
    "lineb = g.readlines()\n",
    "g.close()\n",
    "\n",
    "nb = int(lineb[3].split()[0])\n",
    "print(nb)\n",
    "g = open('./inner_region.lmp','r')\n",
    "linei = g.readlines()\n",
    "g.close()\n",
    "#print(len(lineb),len(linei))\n",
    "ni = int(linei[3].split()[0])\n",
    "\n",
    "number = linei[3].split()[0]\n",
    "xhi = float(lineb[5].split()[1])\n",
    "yhi = float(lineb[6].split()[1])\n",
    "zhi = float(lineb[7].split()[1])\n",
    "print(xhi,yhi,zhi)\n",
    "\n",
    "lattice =  3.3315\n",
    "a = zhi/2-lattice*0.4\n",
    "b = zhi/2+lattice*0.4\n",
    "c = yhi*0.4\n",
    "tip = [0,c,zhi/2]\n",
    "print(tip)"
   ]
  },
  {
   "cell_type": "code",
   "execution_count": 3,
   "id": "f56f4eb3",
   "metadata": {},
   "outputs": [],
   "source": [
    "def polar(x,y,z):\n",
    "    b = tip[1]\n",
    "    c = tip[2]\n",
    "    r = np.sqrt((y-b)**2+(z-c)**2)\n",
    "    theta = np.arctan2((z-c),(y-b))\n",
    "       \n",
    "    return x,r,theta"
   ]
  },
  {
   "cell_type": "code",
   "execution_count": 4,
   "id": "aa3a27d0",
   "metadata": {},
   "outputs": [
    {
     "name": "stdout",
     "output_type": "stream",
     "text": [
      "[ 0.30901699+0.95105652j  0.30901699-0.95105652j -0.80901699+0.58778525j\n",
      " -0.80901699-0.58778525j]\n"
     ]
    }
   ],
   "source": [
    "#print(polar(0,1,np.sqrt(3)),np.sqrt(3)/2)\n",
    "corff = [1,1,1,1,1]\n",
    "print(np.roots(corff))"
   ]
  },
  {
   "cell_type": "code",
   "execution_count": 4,
   "id": "06eed70b",
   "metadata": {},
   "outputs": [],
   "source": [
    "# this section tries to implement the longer displacement equations\n",
    "def get_inverse(A): #this equation gives the inverse of a matrix \n",
    "    return np.linalg.inv(A)\n",
    "\n",
    "def solve_eqn(s11,s16,s12,s66,s26,s22): # this one solve the ^4 equation and gives 4 roots\n",
    "    coeff = [s11, -2*s16, 2*s12+s66, -2*s26, s22]\n",
    "    a1,a2,a3,a4 = np.roots(coeff)\n",
    "    #print('a1,a2,a3,a4',a1,a2,a3,a4)\n",
    "    return a2, a4\n",
    "\n",
    "def get_pq(s11,s12,s66,s22,a1,a2):\n",
    "    p1 = s11*a1**2 +s12 \n",
    "    p2 = s11*a2**2 +s12 \n",
    "    q1 = s12*a1 +s22/a1\n",
    "    q2 = s12*a2 +s22/a2\n",
    "    return p1, p2, q1, q2\n",
    "\n",
    "def displace(a1,a2,p1,p2,q1,q2,K,r,th):\n",
    "    a = 1/(a1-a2)\n",
    "    d = K*np.sqrt(2*r/np.pi)\n",
    "    \n",
    "    b1 = a1*p2*np.sqrt(np.cos(th)+a2*np.sin(th))\n",
    "    c1 = a2*p1*np.sqrt(np.cos(th)+a1*np.sin(th))\n",
    "    x = a*(b1-c1)*d\n",
    "    \n",
    "    b2 = a1*q2*np.sqrt(np.cos(th)+a2*np.sin(th))\n",
    "    c2 = a2*q1*np.sqrt(np.cos(th)+a1*np.sin(th))\n",
    "    y = a*(b2-c2)*d\n",
    "    \n",
    "    return x.real*1e10, y.real*1e10"
   ]
  },
  {
   "cell_type": "code",
   "execution_count": null,
   "id": "7cd0eaf0",
   "metadata": {},
   "outputs": [],
   "source": []
  },
  {
   "cell_type": "code",
   "execution_count": 5,
   "id": "db86db78",
   "metadata": {
    "scrolled": true
   },
   "outputs": [
    {
     "name": "stdout",
     "output_type": "stream",
     "text": [
      "a1,a2 (-0.04747352630035637-0.9993092110014674j) (0.04747352630035567-0.9993092110014675j)\n"
     ]
    }
   ],
   "source": [
    "# this section has the input constants\n",
    "C11 = 215988.610377874 # in MPa\n",
    "C22 = 215612.144829691 \n",
    "C33 = 216578.15561501 \n",
    "\n",
    "C12 = 163950.700824468\n",
    "C13 = 163762.511799617\n",
    "C23 = 163762.511799617\n",
    "\n",
    "C44 = 25971.0447906336\n",
    "C55 = 26116.6337858838  \n",
    "C66 = 25991.3147829455 \n",
    "\n",
    "A = np.array([[C11, C12, C13, 0, 0, 0],\n",
    "              [C12, C22, C23, 0, 0, 0],\n",
    "              [C13, C23, C33, 0, 0, 0],\n",
    "              [0,           0,      0, C44, 0, 0],\n",
    "              [0,           0,      0, 0, C55, 0],\n",
    "              [0,           0,      0, 0, 0, C66]])\n",
    "\n",
    "B = get_inverse(A)\n",
    "#print(B)\n",
    "sp11 = B[0][0]-B[0][2]*B[2][0]/B[2][2]\n",
    "sp12 = B[0][1]-B[0][2]*B[2][1]/B[2][2]\n",
    "sp66 = B[5][5]-B[5][2]*B[2][5]/B[2][2]\n",
    "sp22 = B[1][1]-B[1][2]*B[2][1]/B[2][2]\n",
    "sp16 = B[0][5]-B[0][2]*B[2][5]/B[2][2]\n",
    "sp26 = B[1][5]-B[1][2]*B[2][5]/B[2][2]\n",
    "\n",
    "a1,a2 = solve_eqn(sp11,sp16,sp12,sp66,sp26,sp22)\n",
    "print('a1,a2',a1,a2)\n",
    "\n",
    "p1,p2,q1,q2 = get_pq(sp11, sp12, sp66, sp22,a1,a2)\n",
    "\n",
    "k1 = 0.5 #(MPa sqrt(m))\n",
    "\n",
    "\n",
    "index = []\n",
    "types = []\n",
    "coor = []\n",
    "for i in range(len(lineb)):\n",
    "    if i>=9:\n",
    "        values = lineb[i].split()\n",
    "        index.append(int(values[0]))\n",
    "        types.append(int(values[1]))\n",
    "        coor.append([float(values[2]), float(values[3]), float(values[4])])\n",
    "        #coor.append([float(values[2])*xhi, float(values[3])*Y_length, float(values[4])*Z_length])\n",
    "        \n",
    "new_coor = [[],[],[],[],[],[],[],[],[]]\n",
    "new_y = []\n",
    "new_z = []\n",
    "for i in range(len(coor)):\n",
    "    x,r,theta = polar(coor[i][0],coor[i][1],coor[i][2])\n",
    "    d_y, d_z = displace(a1,a2,p1,p2,q1,q2,k1,r*1e-10,theta) \n",
    "    new_coor.append([x, coor[i][1]+d_y, coor[i][2]+d_z])\n",
    "    new_y.append(coor[i][1]+d_y)\n",
    "    new_z.append(coor[i][2]+d_z)\n",
    "    \n",
    "ylo = min(new_y)-1\n",
    "yhi = max(new_y)+1\n",
    "zlo = min(new_z)-1\n",
    "zhi = max(new_z)+1\n",
    "\n"
   ]
  },
  {
   "cell_type": "code",
   "execution_count": 6,
   "id": "2bfd3fda",
   "metadata": {},
   "outputs": [
    {
     "name": "stdout",
     "output_type": "stream",
     "text": [
      "47800\n"
     ]
    }
   ],
   "source": [
    "g = open('./boundary_displace/boundary_displace_1.lmp','w')\n",
    "g.close()\n",
    "\n",
    "g = open('./boundary_displace/boundary_displace_1.lmp','a')\n",
    "count = 0\n",
    "g.write('# fcc Ni oriented X=[100] Y=[010] Z=[001]. \\n')\n",
    "g.write('\\n')\n",
    "g.write(f'{nb} atoms \\n')\n",
    "g.write('4 atom types \\n')\n",
    "g.write('\\n')\n",
    "g.write(f'0.000000000000     {xhi}  xlo xhi \\n')\n",
    "g.write(f'{ylo}    {yhi}   ylo yhi \\n')\n",
    "g.write(f'{zlo}    {zhi}   zlo zhi \\n')\n",
    "g.write('\\n')\n",
    "g.write('Masses \\n\\n')\n",
    "g.write('1 178.49  # Hf \\n')\n",
    "g.write('2 92.91  # Nb \\n')\n",
    "g.write('3 180.9479  # Ta \\n')\n",
    "g.write('4 47.867  # Ti \\n\\n')\n",
    "g.write('Atoms #atomic \\n\\n')\n",
    "for i in range(len(lineb)):\n",
    "    if i>=9:\n",
    "        count+=1\n",
    "        g.write(str(index[i-9])+' '+str(types[i-9])+' '+str(new_coor[i][0])+' '+str(new_coor[i][1])+' '+str(new_coor[i][2])+'\\n')\n",
    "        \n",
    "g.close()\n",
    "\n",
    "print(count)"
   ]
  },
  {
   "cell_type": "code",
   "execution_count": 7,
   "id": "e2ae166c",
   "metadata": {},
   "outputs": [],
   "source": [
    "#this is for the iner part\n",
    "k1 = 0.5 #(MPa sqrt(m))\n",
    "\n",
    "index = []\n",
    "coor = []\n",
    "types = []\n",
    "for i in range(len(linei)):\n",
    "    if i>=9:\n",
    "        values = linei[i].split()\n",
    "        index.append(int(values[0]))\n",
    "        types.append(int(values[1]))\n",
    "        coor.append([float(values[2]), float(values[3]), float(values[4])])\n",
    "        #coor.append([float(values[2])*xhi, float(values[3])*Y_length, float(values[4])*Z_length])\n",
    "\n",
    "new_coor = [[],[],[],[],[],[],[],[],[]]\n",
    "new_y = []\n",
    "new_z = []\n",
    "for i in range(len(coor)):\n",
    "    x,r,theta = polar(coor[i][0],coor[i][1],coor[i][2])\n",
    "    d_y, d_z = displace(a1,a2,p1,p2,q1,q2,k1,r*1e-10,theta) \n",
    "    new_coor.append([x, coor[i][1]+d_y, coor[i][2]+d_z])\n",
    "    new_y.append(coor[i][1]+d_y)\n",
    "    new_z.append(coor[i][2]+d_z)"
   ]
  },
  {
   "cell_type": "code",
   "execution_count": 8,
   "id": "b11ee9bc",
   "metadata": {},
   "outputs": [
    {
     "name": "stdout",
     "output_type": "stream",
     "text": [
      "239920\n"
     ]
    }
   ],
   "source": [
    "g = open('./inner_displace/inner_displace_1.lmp','w')\n",
    "g.close()\n",
    "\n",
    "g = open('./inner_displace/inner_displace_1.lmp','a')\n",
    "count = 0\n",
    "g.write('# fcc Ni oriented X=[100] Y=[010] Z=[001]. \\n')\n",
    "g.write('\\n')\n",
    "g.write(f'{ni} atoms \\n')\n",
    "g.write('4 atom types \\n')\n",
    "g.write('\\n')\n",
    "g.write(f'0.000000000000      {xhi}  xlo xhi \\n')\n",
    "g.write(f'{ylo}    {yhi}   ylo yhi \\n')\n",
    "g.write(f'{zlo}    {zhi}   zlo zhi \\n')\n",
    "g.write('\\n')\n",
    "g.write('Masses \\n\\n')\n",
    "g.write('1 178.49  # Hf \\n')\n",
    "g.write('2 92.91  # Nb \\n')\n",
    "g.write('3 180.9479  # Ta \\n')\n",
    "g.write('4 47.867  # Ti \\n\\n')\n",
    "g.write('Atoms #atomic \\n\\n')\n",
    "for i in range(len(linei)):\n",
    "    if i>=9:\n",
    "        count+=1\n",
    "        g.write(str(index[i-9])+' '+str(types[i-9])+' '+str(new_coor[i][0])+' '+str(new_coor[i][1])+' '+str(new_coor[i][2])+'\\n')\n",
    "        \n",
    "g.close()\n",
    "print(count)"
   ]
  },
  {
   "cell_type": "code",
   "execution_count": null,
   "id": "04118c58",
   "metadata": {},
   "outputs": [],
   "source": [
    "#isotropic"
   ]
  },
  {
   "cell_type": "code",
   "execution_count": 6,
   "id": "2fe8ac45",
   "metadata": {},
   "outputs": [],
   "source": [
    "def get_displace(r,theta,K1,v,G):\n",
    "    l = K1/G\n",
    "    m = np.sqrt(r/(2*np.pi))\n",
    "    n = np.sin(theta/2)\n",
    "    o = np.cos(theta/2)\n",
    "    p = 1-2*v+(np.sin(theta/2))**2\n",
    "    t = 2-2*v-(np.cos(theta/2))**2\n",
    "    d_y = l*m*o*p*1e10 #*1e10 to transfer the units back to angstron\n",
    "    d_z = l*m*n*t*1e10\n",
    "    \n",
    "    return d_y,d_z"
   ]
  },
  {
   "cell_type": "code",
   "execution_count": 32,
   "id": "dc64ea07",
   "metadata": {},
   "outputs": [],
   "source": [
    "#This is for the boundary, Use ISO\n",
    "\n",
    "index = []\n",
    "coor = []\n",
    "for i in range(len(lineb)):\n",
    "    if i>=9:\n",
    "        values = lineb[i].split()\n",
    "        index.append(int(values[0]))\n",
    "        coor.append([float(values[2]), float(values[3]), float(values[4])])\n",
    "        \n",
    "new_coor = [[],[],[],[],[],[],[],[],[]]\n",
    "new_y = []\n",
    "new_z = []\n",
    "for i in range(len(coor)):\n",
    "    x,r,theta = polar(coor[i][0],coor[i][1],coor[i][2])\n",
    "    k1 = 0.8 #(MPa sqrt(m))\n",
    "    v = 0.37 #poisson ratio\n",
    "    G = 125000#Shear modulus (MPa)\n",
    "    d_y, d_z = get_displace(r*1e-10,theta,k1,v,G)  \n",
    "    new_coor.append([x, coor[i][1]+d_y, coor[i][2]+d_z])\n",
    "    new_y.append(coor[i][1]+d_y)\n",
    "    new_z.append(coor[i][2]+d_z)\n",
    "    \n",
    "ylo = min(new_y)-1\n",
    "yhi = max(new_y)+1\n",
    "zlo = min(new_z)-1\n",
    "zhi = max(new_z)+1"
   ]
  },
  {
   "cell_type": "code",
   "execution_count": 15,
   "id": "db983105",
   "metadata": {},
   "outputs": [
    {
     "name": "stdout",
     "output_type": "stream",
     "text": [
      "8853\n"
     ]
    }
   ],
   "source": [
    "g = open('./boundary_displace.lmp','w')\n",
    "g.close()\n",
    "\n",
    "g = open('./boundary_displace.lmp','a')\n",
    "count = 0\n",
    "g.write('# fcc Ni oriented X=[100] Y=[010] Z=[001]. \\n')\n",
    "g.write('\\n')\n",
    "g.write('8853 atoms \\n')\n",
    "g.write('1 atom types \\n')\n",
    "g.write('\\n')\n",
    "g.write(f'0.000000000000     {xhi}  xlo xhi \\n')\n",
    "g.write(f'{ylo}    {yhi}   ylo yhi \\n')\n",
    "g.write(f'{zlo}    {zhi}   zlo zhi \\n')\n",
    "g.write('\\n')\n",
    "g.write('Masses \\n')\n",
    "g.write('\\n')\n",
    "g.write('1   58.69340000            # Ni \\n')\n",
    "g.write('\\n')\n",
    "g.write('Atoms # atomic \\n')\n",
    "g.write('\\n')\n",
    "for i in range(len(lineb)):\n",
    "    if i>=9:\n",
    "        count+=1\n",
    "        g.write(f'{count} 1 '+str(new_coor[i][0])+' '+str(new_coor[i][1])+' '+str(new_coor[i][2])+'\\n')\n",
    "        \n",
    "g.close()\n",
    "\n",
    "print(count)"
   ]
  },
  {
   "cell_type": "code",
   "execution_count": 16,
   "id": "f5ccb196",
   "metadata": {},
   "outputs": [],
   "source": [
    "#This is for the inner\n",
    "\n",
    "index = []\n",
    "coor = []\n",
    "for i in range(len(linei)):\n",
    "    if i>=9:\n",
    "        values = linei[i].split()\n",
    "        index.append(int(values[0]))\n",
    "        coor.append([float(values[2]), float(values[3]), float(values[4])])\n",
    "        \n",
    "new_coor = [[],[],[],[],[],[],[],[],[]]\n",
    "#new_y = []\n",
    "#new_z = []\n",
    "for i in range(len(coor)):\n",
    "    x,r,theta = polar(coor[i][0],coor[i][1],coor[i][2])\n",
    "    k1 = 0.85 #(MPa sqrt(m))\n",
    "    v = 0.37 #poisson ratio\n",
    "    G = 125000 #Shear modulus (MPa)\n",
    "    d_y, d_z = get_displace(r*1e-10,theta,k1,v,G)  \n",
    "    new_coor.append([x, coor[i][1]+d_y, coor[i][2]+d_z])\n",
    "    #new_y.append(coor[i][1]+d_y)\n",
    "    #new_z.append(coor[i][2]+d_z)"
   ]
  },
  {
   "cell_type": "code",
   "execution_count": 18,
   "id": "5cb03e7a",
   "metadata": {},
   "outputs": [
    {
     "name": "stdout",
     "output_type": "stream",
     "text": [
      "34347\n"
     ]
    }
   ],
   "source": [
    "g = open('./iner_displace.lmp','w')\n",
    "g.close()\n",
    "\n",
    "g = open('./iner_displace.lmp','a')\n",
    "count = 0\n",
    "g.write('# fcc Ni oriented X=[100] Y=[010] Z=[001]. \\n')\n",
    "g.write('\\n')\n",
    "g.write('34347 atoms \\n')\n",
    "g.write('1 atom types \\n')\n",
    "g.write('\\n')\n",
    "g.write(f'0.000000000000      {xhi}  xlo xhi \\n')\n",
    "g.write(f'{ylo}    {yhi}   ylo yhi \\n')\n",
    "g.write(f'{zlo}    {zhi}   zlo zhi \\n')\n",
    "g.write('\\n')\n",
    "g.write('Masses \\n')\n",
    "g.write('\\n')\n",
    "g.write('1   58.69340000            # Ni \\n')\n",
    "g.write('\\n')\n",
    "g.write('Atoms # atomic \\n')\n",
    "g.write('\\n')\n",
    "for i in range(len(linei)):\n",
    "    if i>=9:\n",
    "        count+=1\n",
    "        g.write(f'{count} 1 '+str(new_coor[i][0])+' '+str(new_coor[i][1])+' '+str(new_coor[i][2])+'\\n')\n",
    "        \n",
    "g.close()\n",
    "print(count)"
   ]
  },
  {
   "cell_type": "code",
   "execution_count": 302,
   "id": "40135abc",
   "metadata": {},
   "outputs": [
    {
     "data": {
      "text/plain": [
       "0.37468354430379747"
      ]
     },
     "execution_count": 302,
     "metadata": {},
     "output_type": "execute_result"
    }
   ],
   "source": [
    "1/(1+247/148)"
   ]
  },
  {
   "cell_type": "code",
   "execution_count": 55,
   "id": "fe5ba310",
   "metadata": {},
   "outputs": [
    {
     "data": {
      "text/plain": [
       "1.76"
      ]
     },
     "execution_count": 55,
     "metadata": {},
     "output_type": "execute_result"
    }
   ],
   "source": [
    "3.52/2"
   ]
  },
  {
   "cell_type": "code",
   "execution_count": 10,
   "id": "2b44cb0f",
   "metadata": {},
   "outputs": [
    {
     "data": {
      "text/plain": [
       "2.525252525252525"
      ]
     },
     "execution_count": 10,
     "metadata": {},
     "output_type": "execute_result"
    }
   ],
   "source": [
    "2*125/(247-148)"
   ]
  },
  {
   "cell_type": "code",
   "execution_count": null,
   "id": "10792d6f",
   "metadata": {},
   "outputs": [],
   "source": []
  }
 ],
 "metadata": {
  "kernelspec": {
   "display_name": "Python 3 (ipykernel)",
   "language": "python",
   "name": "python3"
  },
  "language_info": {
   "codemirror_mode": {
    "name": "ipython",
    "version": 3
   },
   "file_extension": ".py",
   "mimetype": "text/x-python",
   "name": "python",
   "nbconvert_exporter": "python",
   "pygments_lexer": "ipython3",
   "version": "3.10.12"
  }
 },
 "nbformat": 4,
 "nbformat_minor": 5
}
